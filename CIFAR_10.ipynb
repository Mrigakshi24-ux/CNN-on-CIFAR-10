{
  "nbformat": 4,
  "nbformat_minor": 0,
  "metadata": {
    "colab": {
      "name": " CIFAR_10.ipynb",
      "provenance": [],
      "collapsed_sections": []
    },
    "kernelspec": {
      "name": "python3",
      "display_name": "Python 3"
    },
    "accelerator": "GPU",
    "widgets": {
      "application/vnd.jupyter.widget-state+json": {
        "79720764898f49d997db45713b57757b": {
          "model_module": "@jupyter-widgets/controls",
          "model_name": "HBoxModel",
          "state": {
            "_view_name": "HBoxView",
            "_dom_classes": [],
            "_model_name": "HBoxModel",
            "_view_module": "@jupyter-widgets/controls",
            "_model_module_version": "1.5.0",
            "_view_count": null,
            "_view_module_version": "1.5.0",
            "box_style": "",
            "layout": "IPY_MODEL_253b4eefbcd240189e52998419e4f790",
            "_model_module": "@jupyter-widgets/controls",
            "children": [
              "IPY_MODEL_8b17a99db3a7456b98ffe50751307d6b",
              "IPY_MODEL_5e2330c7bf674d8bbb79a6f664623f25"
            ]
          }
        },
        "253b4eefbcd240189e52998419e4f790": {
          "model_module": "@jupyter-widgets/base",
          "model_name": "LayoutModel",
          "state": {
            "_view_name": "LayoutView",
            "grid_template_rows": null,
            "right": null,
            "justify_content": null,
            "_view_module": "@jupyter-widgets/base",
            "overflow": null,
            "_model_module_version": "1.2.0",
            "_view_count": null,
            "flex_flow": null,
            "width": null,
            "min_width": null,
            "border": null,
            "align_items": null,
            "bottom": null,
            "_model_module": "@jupyter-widgets/base",
            "top": null,
            "grid_column": null,
            "overflow_y": null,
            "overflow_x": null,
            "grid_auto_flow": null,
            "grid_area": null,
            "grid_template_columns": null,
            "flex": null,
            "_model_name": "LayoutModel",
            "justify_items": null,
            "grid_row": null,
            "max_height": null,
            "align_content": null,
            "visibility": null,
            "align_self": null,
            "height": null,
            "min_height": null,
            "padding": null,
            "grid_auto_rows": null,
            "grid_gap": null,
            "max_width": null,
            "order": null,
            "_view_module_version": "1.2.0",
            "grid_template_areas": null,
            "object_position": null,
            "object_fit": null,
            "grid_auto_columns": null,
            "margin": null,
            "display": null,
            "left": null
          }
        },
        "8b17a99db3a7456b98ffe50751307d6b": {
          "model_module": "@jupyter-widgets/controls",
          "model_name": "FloatProgressModel",
          "state": {
            "_view_name": "ProgressView",
            "style": "IPY_MODEL_890dfcf2c7454a7bb3fb3199b581b88c",
            "_dom_classes": [],
            "description": "",
            "_model_name": "FloatProgressModel",
            "bar_style": "success",
            "max": 170498071,
            "_view_module": "@jupyter-widgets/controls",
            "_model_module_version": "1.5.0",
            "value": 170498071,
            "_view_count": null,
            "_view_module_version": "1.5.0",
            "orientation": "horizontal",
            "min": 0,
            "description_tooltip": null,
            "_model_module": "@jupyter-widgets/controls",
            "layout": "IPY_MODEL_c935f4651ea54fc89a2b279bbab9e396"
          }
        },
        "5e2330c7bf674d8bbb79a6f664623f25": {
          "model_module": "@jupyter-widgets/controls",
          "model_name": "HTMLModel",
          "state": {
            "_view_name": "HTMLView",
            "style": "IPY_MODEL_c77ae562f157426185f540b4677df2e6",
            "_dom_classes": [],
            "description": "",
            "_model_name": "HTMLModel",
            "placeholder": "​",
            "_view_module": "@jupyter-widgets/controls",
            "_model_module_version": "1.5.0",
            "value": " 170499072/? [06:46&lt;00:00, 419485.23it/s]",
            "_view_count": null,
            "_view_module_version": "1.5.0",
            "description_tooltip": null,
            "_model_module": "@jupyter-widgets/controls",
            "layout": "IPY_MODEL_a574245348f140bc99f515c90be4f88b"
          }
        },
        "890dfcf2c7454a7bb3fb3199b581b88c": {
          "model_module": "@jupyter-widgets/controls",
          "model_name": "ProgressStyleModel",
          "state": {
            "_view_name": "StyleView",
            "_model_name": "ProgressStyleModel",
            "description_width": "initial",
            "_view_module": "@jupyter-widgets/base",
            "_model_module_version": "1.5.0",
            "_view_count": null,
            "_view_module_version": "1.2.0",
            "bar_color": null,
            "_model_module": "@jupyter-widgets/controls"
          }
        },
        "c935f4651ea54fc89a2b279bbab9e396": {
          "model_module": "@jupyter-widgets/base",
          "model_name": "LayoutModel",
          "state": {
            "_view_name": "LayoutView",
            "grid_template_rows": null,
            "right": null,
            "justify_content": null,
            "_view_module": "@jupyter-widgets/base",
            "overflow": null,
            "_model_module_version": "1.2.0",
            "_view_count": null,
            "flex_flow": null,
            "width": null,
            "min_width": null,
            "border": null,
            "align_items": null,
            "bottom": null,
            "_model_module": "@jupyter-widgets/base",
            "top": null,
            "grid_column": null,
            "overflow_y": null,
            "overflow_x": null,
            "grid_auto_flow": null,
            "grid_area": null,
            "grid_template_columns": null,
            "flex": null,
            "_model_name": "LayoutModel",
            "justify_items": null,
            "grid_row": null,
            "max_height": null,
            "align_content": null,
            "visibility": null,
            "align_self": null,
            "height": null,
            "min_height": null,
            "padding": null,
            "grid_auto_rows": null,
            "grid_gap": null,
            "max_width": null,
            "order": null,
            "_view_module_version": "1.2.0",
            "grid_template_areas": null,
            "object_position": null,
            "object_fit": null,
            "grid_auto_columns": null,
            "margin": null,
            "display": null,
            "left": null
          }
        },
        "c77ae562f157426185f540b4677df2e6": {
          "model_module": "@jupyter-widgets/controls",
          "model_name": "DescriptionStyleModel",
          "state": {
            "_view_name": "StyleView",
            "_model_name": "DescriptionStyleModel",
            "description_width": "",
            "_view_module": "@jupyter-widgets/base",
            "_model_module_version": "1.5.0",
            "_view_count": null,
            "_view_module_version": "1.2.0",
            "_model_module": "@jupyter-widgets/controls"
          }
        },
        "a574245348f140bc99f515c90be4f88b": {
          "model_module": "@jupyter-widgets/base",
          "model_name": "LayoutModel",
          "state": {
            "_view_name": "LayoutView",
            "grid_template_rows": null,
            "right": null,
            "justify_content": null,
            "_view_module": "@jupyter-widgets/base",
            "overflow": null,
            "_model_module_version": "1.2.0",
            "_view_count": null,
            "flex_flow": null,
            "width": null,
            "min_width": null,
            "border": null,
            "align_items": null,
            "bottom": null,
            "_model_module": "@jupyter-widgets/base",
            "top": null,
            "grid_column": null,
            "overflow_y": null,
            "overflow_x": null,
            "grid_auto_flow": null,
            "grid_area": null,
            "grid_template_columns": null,
            "flex": null,
            "_model_name": "LayoutModel",
            "justify_items": null,
            "grid_row": null,
            "max_height": null,
            "align_content": null,
            "visibility": null,
            "align_self": null,
            "height": null,
            "min_height": null,
            "padding": null,
            "grid_auto_rows": null,
            "grid_gap": null,
            "max_width": null,
            "order": null,
            "_view_module_version": "1.2.0",
            "grid_template_areas": null,
            "object_position": null,
            "object_fit": null,
            "grid_auto_columns": null,
            "margin": null,
            "display": null,
            "left": null
          }
        }
      }
    }
  },
  "cells": [
    {
      "cell_type": "code",
      "metadata": {
        "id": "-V0su0H9EqIS"
      },
      "source": [
        "import matplotlib.pyplot as plt   # to plot\n",
        "import torch\n",
        "import torch.nn as nn    # contains all the functions to build NN\n",
        "import torchvision       # contains datasets, some functions which can be applied on cv problem\n",
        "import torchvision.transforms as transforms    # to transform data"
      ],
      "execution_count": null,
      "outputs": []
    },
    {
      "cell_type": "code",
      "metadata": {
        "id": "ASlmxZdaI0lx"
      },
      "source": [
        "device = torch.device('cuda:0'if torch.cuda.is_available() else 'cpu')  # set the device where the computation is to be perfomed. \n",
        "                                                                        # If cuda avaliable, it will set the device to that, else cpu"
      ],
      "execution_count": null,
      "outputs": []
    },
    {
      "cell_type": "markdown",
      "metadata": {
        "id": "Bgixien2KstT"
      },
      "source": [
        "Importing datasets from torchvision"
      ]
    },
    {
      "cell_type": "markdown",
      "metadata": {
        "id": "tURV19B8Lb2b"
      },
      "source": [
        "Train data"
      ]
    },
    {
      "cell_type": "code",
      "metadata": {
        "colab": {
          "base_uri": "https://localhost:8080/",
          "height": 99,
          "referenced_widgets": [
            "79720764898f49d997db45713b57757b",
            "253b4eefbcd240189e52998419e4f790",
            "8b17a99db3a7456b98ffe50751307d6b",
            "5e2330c7bf674d8bbb79a6f664623f25",
            "890dfcf2c7454a7bb3fb3199b581b88c",
            "c935f4651ea54fc89a2b279bbab9e396",
            "c77ae562f157426185f540b4677df2e6",
            "a574245348f140bc99f515c90be4f88b"
          ]
        },
        "id": "-Dzzkc9OFGkj",
        "outputId": "7bee562a-10b9-4dda-c180-187ff74dfb10"
      },
      "source": [
        "train_data = torchvision.datasets.CIFAR10(root='/data',          # the directory in which dataset is to be stored\n",
        "                                          train = True,          # since this data is used for training\n",
        "                                          transform = transforms.ToTensor(),    # this is image dataset, so we tranform it to tensor, \n",
        "                                                                                # to perfom faster computation\n",
        "                                          download = True ) "
      ],
      "execution_count": null,
      "outputs": [
        {
          "output_type": "stream",
          "text": [
            "Downloading https://www.cs.toronto.edu/~kriz/cifar-10-python.tar.gz to /data/cifar-10-python.tar.gz\n"
          ],
          "name": "stdout"
        },
        {
          "output_type": "display_data",
          "data": {
            "application/vnd.jupyter.widget-view+json": {
              "model_id": "79720764898f49d997db45713b57757b",
              "version_minor": 0,
              "version_major": 2
            },
            "text/plain": [
              "HBox(children=(FloatProgress(value=0.0, max=170498071.0), HTML(value='')))"
            ]
          },
          "metadata": {
            "tags": []
          }
        },
        {
          "output_type": "stream",
          "text": [
            "\n",
            "Extracting /data/cifar-10-python.tar.gz to /data\n"
          ],
          "name": "stdout"
        }
      ]
    },
    {
      "cell_type": "markdown",
      "metadata": {
        "id": "8e874UkyLeO9"
      },
      "source": [
        "Test data"
      ]
    },
    {
      "cell_type": "code",
      "metadata": {
        "colab": {
          "base_uri": "https://localhost:8080/"
        },
        "id": "X7LNxRmsKUM0",
        "outputId": "fb2f727f-a414-4005-9454-a3119595e947"
      },
      "source": [
        "test_data = torchvision.datasets.CIFAR10(root='/data',\n",
        "                                          train = False,\n",
        "                                          transform = transforms.ToTensor(),\n",
        "                                          download = True )"
      ],
      "execution_count": null,
      "outputs": [
        {
          "output_type": "stream",
          "text": [
            "Files already downloaded and verified\n"
          ],
          "name": "stdout"
        }
      ]
    },
    {
      "cell_type": "markdown",
      "metadata": {
        "id": "nImJYP3oLiOZ"
      },
      "source": [
        "All the images are stored as tensors in train_data and test_data"
      ]
    },
    {
      "cell_type": "code",
      "metadata": {
        "id": "5RmmJ-p3MAeZ"
      },
      "source": [
        "# Since this is a fairly large dataset, so faster computation we divide this data into batches/chunks\n",
        "batch_size = 100\n",
        "train_loader = torch.utils.data.DataLoader(dataset = train_data,\n",
        "                                           batch_size = batch_size,\n",
        "                                           shuffle = True)\n",
        "\n",
        "\n",
        "test_loader = torch.utils.data.DataLoader(dataset = test_data,\n",
        "                                           batch_size = batch_size,\n",
        "                                           shuffle = True)\n"
      ],
      "execution_count": null,
      "outputs": []
    },
    {
      "cell_type": "markdown",
      "metadata": {
        "id": "Z4tFUCQfMsAk"
      },
      "source": [
        "Setting the parameters"
      ]
    },
    {
      "cell_type": "code",
      "metadata": {
        "id": "vnraircYMrR6"
      },
      "source": [
        "num_epochs = 15    # the number of times our dataset passes through the NN\n",
        "num_classes = 10\n",
        "learning_rate = 0.001"
      ],
      "execution_count": null,
      "outputs": []
    },
    {
      "cell_type": "markdown",
      "metadata": {
        "id": "0jk1YtdBNGAt"
      },
      "source": [
        "In Pytorch, NN is defined in form of classes."
      ]
    },
    {
      "cell_type": "code",
      "metadata": {
        "id": "Y2pn13RPG1v7"
      },
      "source": [
        "#define class\n",
        "class Classify(nn.Module):       # nn.Modules - base class for nn modules\n",
        "  \n",
        "  def __init__(self,num_classes = 10):    # define constructor, it initialises the object at the time of creation\n",
        "                                          # we will have 3 layer \n",
        "    super(Classify, self).__init__()\n",
        "\n",
        "    self.layer1 = nn.Sequential(          # it will perform sequential operations\n",
        "        nn.Conv2d(3,16,kernel_size = 3, stride = 1, padding=1),     # since colored images, so input channel = 3\n",
        "                                                                    # output channels = 16, kernel/filtersize =3*3\n",
        "                                                                    # stride - by how many pixel should our window moves\n",
        "                                                                    # padding - how may 0's we want to add to our compressed image\n",
        "                   nn.BatchNorm2d(16),                              # can improve lr of model, minimize internal covariate shift(mean-0, variance-1)\n",
        "                   nn.ReLU(),                                       # avtivation function\n",
        "                   nn.Conv2d(16, 32, kernel_size = 3, stride =1, padding = 1),\n",
        "                   nn.BatchNorm2d(32), \n",
        "                   nn.ReLU(),\n",
        "\n",
        "                   nn.MaxPool2d(kernel_size = 2, stride = 2)        # Max pooling will reduce th size of image into half\n",
        "    )      \n",
        "\n",
        "    #after this layer the size will be 16*16\n",
        "\n",
        "    self.layer2 = nn.Sequential(\n",
        "        \n",
        "        nn.Conv2d(32, 64, kernel_size = 3, stride =1, padding = 1),\n",
        "        nn.BatchNorm2d(64),\n",
        "        nn.ReLU(),\n",
        "        nn.Conv2d(64, 128, kernel_size = 3, stride =1, padding = 1),\n",
        "        nn.BatchNorm2d(128),\n",
        "        nn.ReLU(),\n",
        "        nn.MaxPool2d(kernel_size = 2, stride = 2 )\n",
        "    )        \n",
        "\n",
        "    self.layer3 = nn.Sequential(\n",
        "        \n",
        "        nn.Conv2d(128, 256, kernel_size = 3, stride =1, padding = 1),\n",
        "        nn.BatchNorm2d(256),\n",
        "        nn.ReLU(),\n",
        "        nn.Conv2d(256, 512, kernel_size = 3, stride =1, padding = 1),\n",
        "        nn.BatchNorm2d(512),\n",
        "        nn.ReLU(),\n",
        "        nn.MaxPool2d(kernel_size = 2, stride = 2 )\n",
        "    )        \n",
        "\n",
        "   # after this layer, the size will be 4*4\n",
        "\n",
        "    self.fc = nn.Linear(4*4*512, num_classes)             # fc - fully connected network, applies linear transformation to the upcoming data\n",
        "                                                         # 8*8 is the size of image, and the last no of output channels was 32\n",
        "\n",
        "\n",
        "  def forward(self, x):                                  # this function will combine all the above information in a specific order\n",
        "    out = self.layer1(x)\n",
        "    out = self.layer2(out)\n",
        "    out = self.layer3(out)\n",
        "    out = out.reshape(out.size(0), -1)                   # the layers give 2D data as output, so to convert to 1D(vector), reshape. \n",
        "                                                         # -1 means number of columns will be calculated automaticaly.\n",
        "                                                         # out.size(0) gives number of rows\n",
        "    out = self.fc(out)                                                     \n",
        "    return out     "
      ],
      "execution_count": null,
      "outputs": []
    },
    {
      "cell_type": "markdown",
      "metadata": {
        "id": "F5CwFjYgQaB7"
      },
      "source": [
        "1. Don't keep kernel size too large, or a lot of information would be lost.\n",
        "2. To find size of output image : H = (H - FilterSize + 2*Padding/Stride)+1"
      ]
    },
    {
      "cell_type": "code",
      "metadata": {
        "id": "9MbS1RdXQfvv"
      },
      "source": [
        "model = Classify(num_classes).to(device)"
      ],
      "execution_count": null,
      "outputs": []
    },
    {
      "cell_type": "code",
      "metadata": {
        "id": "MsG-xPcV_gQ4"
      },
      "source": [
        "#Loss and optimizer\n",
        "\n",
        "criterion = nn.CrossEntropyLoss()       # since this is a classification problem\n",
        "optimizer = torch.optim.Adam(model.parameters(), lr = learning_rate)  # default learning rate of Adam is 0.001\n"
      ],
      "execution_count": null,
      "outputs": []
    },
    {
      "cell_type": "markdown",
      "metadata": {
        "id": "nSCbrWYzEimF"
      },
      "source": [
        "Training Loop"
      ]
    },
    {
      "cell_type": "code",
      "metadata": {
        "colab": {
          "base_uri": "https://localhost:8080/"
        },
        "id": "p81MVhZ0EcMW",
        "outputId": "e528e550-5cac-459c-c30c-43ea9b908e7b"
      },
      "source": [
        "total_step = len(train_loader)\n",
        "\n",
        "for epoch in range(num_epochs):   # first loop for the epochs\n",
        "\n",
        "  for i, (images, labels) in enumerate(train_loader):         # second loop for the training batches\n",
        "                                                              # at a time from the train_loader we pick the image,label (100images and 100 labels)\n",
        "    images = images.to(device)                                \n",
        "    labels = labels.to(device)                                # set the image and label to device\n",
        "\n",
        "\n",
        "    # Forward pass\n",
        "    output = model(images)\n",
        "    loss = criterion(output, labels)                          # both values are compared and stored in loss\n",
        "\n",
        "    # Backward pass\n",
        "    optimizer.zero_grad()                                     # to optimize the loss,to not accumulate the previous gradient\n",
        "    loss.backward()                                           # to calculate the gradient\n",
        "    optimizer.step()                                          # it applies the optimizer to change the parameter \n",
        "                                                              # once paramters are changed, we can test it on the test data\n",
        "\n",
        "    if (i+1) % 100 == 0:\n",
        "      print('Epoch [{} {}], Step [{} {}], Loss: {:4f}'.format(epoch+1, num_epochs, i+1, total_step, loss.item()))                                                      \n",
        "\n",
        "\n",
        "\n"
      ],
      "execution_count": null,
      "outputs": [
        {
          "output_type": "stream",
          "text": [
            "Epoch [1 15], Step [100 500], Loss: 1.821341\n",
            "Epoch [1 15], Step [200 500], Loss: 1.543175\n",
            "Epoch [1 15], Step [300 500], Loss: 1.363162\n",
            "Epoch [1 15], Step [400 500], Loss: 0.849861\n",
            "Epoch [1 15], Step [500 500], Loss: 0.773534\n",
            "Epoch [2 15], Step [100 500], Loss: 0.867153\n",
            "Epoch [2 15], Step [200 500], Loss: 1.051483\n",
            "Epoch [2 15], Step [300 500], Loss: 0.957628\n",
            "Epoch [2 15], Step [400 500], Loss: 0.973563\n",
            "Epoch [2 15], Step [500 500], Loss: 0.743706\n",
            "Epoch [3 15], Step [100 500], Loss: 0.689746\n",
            "Epoch [3 15], Step [200 500], Loss: 0.662957\n",
            "Epoch [3 15], Step [300 500], Loss: 0.573839\n",
            "Epoch [3 15], Step [400 500], Loss: 0.607144\n",
            "Epoch [3 15], Step [500 500], Loss: 0.860277\n",
            "Epoch [4 15], Step [100 500], Loss: 0.445273\n",
            "Epoch [4 15], Step [200 500], Loss: 0.521645\n",
            "Epoch [4 15], Step [300 500], Loss: 0.485138\n",
            "Epoch [4 15], Step [400 500], Loss: 0.529458\n",
            "Epoch [4 15], Step [500 500], Loss: 0.437997\n",
            "Epoch [5 15], Step [100 500], Loss: 0.519241\n",
            "Epoch [5 15], Step [200 500], Loss: 0.402658\n",
            "Epoch [5 15], Step [300 500], Loss: 0.370648\n",
            "Epoch [5 15], Step [400 500], Loss: 0.464258\n",
            "Epoch [5 15], Step [500 500], Loss: 0.422278\n",
            "Epoch [6 15], Step [100 500], Loss: 0.282730\n",
            "Epoch [6 15], Step [200 500], Loss: 0.319407\n",
            "Epoch [6 15], Step [300 500], Loss: 0.462106\n",
            "Epoch [6 15], Step [400 500], Loss: 0.425354\n",
            "Epoch [6 15], Step [500 500], Loss: 0.267173\n",
            "Epoch [7 15], Step [100 500], Loss: 0.233292\n",
            "Epoch [7 15], Step [200 500], Loss: 0.177218\n",
            "Epoch [7 15], Step [300 500], Loss: 0.326695\n",
            "Epoch [7 15], Step [400 500], Loss: 0.247524\n",
            "Epoch [7 15], Step [500 500], Loss: 0.226848\n",
            "Epoch [8 15], Step [100 500], Loss: 0.089557\n",
            "Epoch [8 15], Step [200 500], Loss: 0.099129\n",
            "Epoch [8 15], Step [300 500], Loss: 0.246896\n",
            "Epoch [8 15], Step [400 500], Loss: 0.235819\n",
            "Epoch [8 15], Step [500 500], Loss: 0.140550\n",
            "Epoch [9 15], Step [100 500], Loss: 0.204795\n",
            "Epoch [9 15], Step [200 500], Loss: 0.064908\n",
            "Epoch [9 15], Step [300 500], Loss: 0.139419\n",
            "Epoch [9 15], Step [400 500], Loss: 0.203886\n",
            "Epoch [9 15], Step [500 500], Loss: 0.221182\n",
            "Epoch [10 15], Step [100 500], Loss: 0.073887\n",
            "Epoch [10 15], Step [200 500], Loss: 0.109270\n",
            "Epoch [10 15], Step [300 500], Loss: 0.212125\n",
            "Epoch [10 15], Step [400 500], Loss: 0.028271\n",
            "Epoch [10 15], Step [500 500], Loss: 0.085654\n",
            "Epoch [11 15], Step [100 500], Loss: 0.054842\n",
            "Epoch [11 15], Step [200 500], Loss: 0.119024\n",
            "Epoch [11 15], Step [300 500], Loss: 0.133072\n",
            "Epoch [11 15], Step [400 500], Loss: 0.086972\n",
            "Epoch [11 15], Step [500 500], Loss: 0.101056\n",
            "Epoch [12 15], Step [100 500], Loss: 0.049193\n",
            "Epoch [12 15], Step [200 500], Loss: 0.046927\n",
            "Epoch [12 15], Step [300 500], Loss: 0.057941\n",
            "Epoch [12 15], Step [400 500], Loss: 0.039091\n",
            "Epoch [12 15], Step [500 500], Loss: 0.040577\n",
            "Epoch [13 15], Step [100 500], Loss: 0.045833\n",
            "Epoch [13 15], Step [200 500], Loss: 0.035804\n",
            "Epoch [13 15], Step [300 500], Loss: 0.040570\n",
            "Epoch [13 15], Step [400 500], Loss: 0.037355\n",
            "Epoch [13 15], Step [500 500], Loss: 0.088959\n",
            "Epoch [14 15], Step [100 500], Loss: 0.002208\n",
            "Epoch [14 15], Step [200 500], Loss: 0.059714\n",
            "Epoch [14 15], Step [300 500], Loss: 0.104970\n",
            "Epoch [14 15], Step [400 500], Loss: 0.064330\n",
            "Epoch [14 15], Step [500 500], Loss: 0.104964\n",
            "Epoch [15 15], Step [100 500], Loss: 0.078548\n",
            "Epoch [15 15], Step [200 500], Loss: 0.069277\n",
            "Epoch [15 15], Step [300 500], Loss: 0.045256\n",
            "Epoch [15 15], Step [400 500], Loss: 0.109623\n",
            "Epoch [15 15], Step [500 500], Loss: 0.140043\n"
          ],
          "name": "stdout"
        }
      ]
    },
    {
      "cell_type": "markdown",
      "metadata": {
        "id": "votE6lGjPZoT"
      },
      "source": [
        "Test the model on test data"
      ]
    },
    {
      "cell_type": "code",
      "metadata": {
        "colab": {
          "base_uri": "https://localhost:8080/"
        },
        "id": "3yetM6NpLEH3",
        "outputId": "138340e5-51c4-401d-f375-fa425464d359"
      },
      "source": [
        "model.eval()                      # put the model in this\n",
        "\n",
        "with torch.no_grad():\n",
        "  correct = 0\n",
        "  total = 0\n",
        "  for images, labels in test_loader:\n",
        "    images = images.to(device)\n",
        "    labels = labels.to(device)\n",
        "\n",
        "    output = model(images)           # this output will give us probabilities, we need to convert them into classes\n",
        "\n",
        "    _, predicted = torch.max(output.data, 1)      # this will provide us with the class with max probablitiy\n",
        "\n",
        "    total += labels.size(0)                       # used to calculate the total size of the labels\n",
        "    correct += (predicted == labels).sum().item() # used to see how many predicted match with labels\n",
        "\n",
        "  print('Test accuracy : {} %'.format(100* correct/total))\n"
      ],
      "execution_count": null,
      "outputs": [
        {
          "output_type": "stream",
          "text": [
            "Test accuracy : 81.01 %\n"
          ],
          "name": "stdout"
        }
      ]
    },
    {
      "cell_type": "code",
      "metadata": {
        "id": "w4r3DaUo8uhR"
      },
      "source": [
        ""
      ],
      "execution_count": null,
      "outputs": []
    }
  ]
}